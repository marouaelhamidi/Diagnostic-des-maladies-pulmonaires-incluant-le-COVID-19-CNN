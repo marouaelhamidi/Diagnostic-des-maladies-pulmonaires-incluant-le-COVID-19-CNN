{
 "cells": [
  {
   "cell_type": "code",
   "execution_count": 2,
   "id": "8a452fdc",
   "metadata": {},
   "outputs": [],
   "source": [
    "import glob\n",
    "import numpy as np\n",
    "import os\n",
    "import matplotlib.pyplot as plt\n",
    "#import cv2\n",
    "import pandas as pd\n",
    "import seaborn as sns\n",
    "import sklearn.metrics as metrics\n",
    "from sklearn.model_selection import cross_val_score\n",
    "from sklearn.model_selection import train_test_split\n",
    "from tensorflow.keras.preprocessing.image import ImageDataGenerator\n",
    "from tensorflow.keras.preprocessing import image\n",
    "from tensorflow.keras.preprocessing.image import load_img,img_to_array"
   ]
  },
  {
   "cell_type": "code",
   "execution_count": 3,
   "id": "e2a7c50a",
   "metadata": {},
   "outputs": [
    {
     "data": {
      "image/png": "[encoded data removed]",
      "text/plain": [
       "<Figure size 800x500 with 1 Axes>"
      ]
     },
     "metadata": {},
     "output_type": "display_data"
    }
   ],
   "source": [
    "import matplotlib.pyplot as plt\n",
    "import glob\n",
    "\n",
    "# Chemin vers les dossiers contenant les images\n",
    "directories = ['./dataset/NORMAL', './dataset/covid','./dataset/virus']\n",
    "\n",
    "# Nombre d'images dans chaque dossier\n",
    "num_images_per_directory = []\n",
    "\n",
    "for directory in directories:\n",
    "    img_list = glob.glob(directory + '/*')\n",
    "    num_images_per_directory.append(len(img_list))\n",
    "\n",
    "# Noms des dossiers\n",
    "directory_names = [dir.split('/')[-1] for dir in directories]\n",
    "\n",
    "# Création du diagramme\n",
    "plt.figure(figsize=(8, 5))\n",
    "plt.bar(directory_names, num_images_per_directory, color=['blue', 'green'])\n",
    "plt.xlabel('Dossier')\n",
    "plt.ylabel('Nombre d\\'images')\n",
    "plt.title('Nombre d\\'images par dossier')\n",
    "plt.show()"
   ]
  },
  {
   "cell_type": "code",
   "execution_count": 4,
   "id": "187760d8",
   "metadata": {},
   "outputs": [
    {
     "data": {
      "text/plain": [
       "\"import glob\\nimport numpy as np\\nimport pandas as pd\\nfrom keras.preprocessing.image import load_img, img_to_array\\nimg_size = (224,224)\\ndir_name = './dataset/covid'\\nimg_list = glob.glob(dir_name + '/*')\\n\\nlist_covid = []\\nfor img in img_list:\\n    temp_img = load_img(img, color_mode='grayscale', target_size=(img_size))\\n\\n   # temp_img = load_img(img,grayscale=True,target_size=(img_size))\\n    temp_img_array = img_to_array(temp_img) /255\\n    list_covid.append(temp_img_array)\\nlist_covid = np.array(list_covid)\\nlist_covid2 = list_covid.reshape(-1,50176)\\ndf_covid=pd.DataFrame(list_covid2)\\ndf_covid['label'] = np.full(df_covid.shape[0],2)\\n \\nlist_normal2 = list_normal.reshape(num_images, height * width * channels)\\n# Creating a DataFrame and assigning labels\\ndf_normal = pd.DataFrame(list_normal2)\\ndf_normal['label'] = np.full(num_images, 0)  # Assuming 0 represents normal images\\n\\nprint(df_normal.shape) \""
      ]
     },
     "execution_count": 4,
     "metadata": {},
     "output_type": "execute_result"
    }
   ],
   "source": [
    "\n",
    "import glob\n",
    "import numpy as np\n",
    "import pandas as pd\n",
    "from keras.preprocessing.image import load_img, img_to_array\n",
    "\n",
    "img_size = (224,224)\n",
    "dir_name = './dataset/covid'\n",
    "img_list = glob.glob(dir_name + '/*')\n",
    "\n",
    "list_covid = []\n",
    "for img in img_list:\n",
    "    temp_img = load_img(img, color_mode='grayscale', target_size=(img_size))\n",
    "    temp_img_array = img_to_array(temp_img) / 255\n",
    "    list_covid.append(temp_img_array)\n",
    "list_covid = np.array(list_covid)\n",
    "list_covid2 = list_covid.reshape(-1, 50176)\n",
    "df_covid = pd.DataFrame(list_covid2)\n",
    "df_covid['label'] = np.full(df_covid.shape[0], 2)\n",
    "\n",
    "# Définir les valeurs pour list_normal, num_images, height, width et channels\n",
    "# list_normal = ...\n",
    "# num_images = ...\n",
    "# height = ...\n",
    "# width = ...\n",
    "# channels = ...\n",
    "\n",
    "# Remodeler list_normal si nécessaire\n",
    "# list_normal2 = list_normal.reshape(num_images, height * width * channels)\n",
    "\n",
    "# Créer un DataFrame pour les images normales et attribuer les étiquettes\n",
    "# df_normal = pd.DataFrame(list_normal2)\n",
    "# df_normal['label'] = np.full(num_images, 0)  # Assuming 0 represents normal images\n",
    "\n",
    "# Imprimer les dimensions du DataFrame des images normales\n",
    "# print(df_normal.shape)\n",
    "\n",
    "\"\"\"import glob\n",
    "import numpy as np\n",
    "import pandas as pd\n",
    "from keras.preprocessing.image import load_img, img_to_array\n",
    "img_size = (224,224)\n",
    "dir_name = './dataset/covid'\n",
    "img_list = glob.glob(dir_name + '/*')\n",
    "\n",
    "list_covid = []\n",
    "for img in img_list:\n",
    "    temp_img = load_img(img, color_mode='grayscale', target_size=(img_size))\n",
    "\n",
    "   # temp_img = load_img(img,grayscale=True,target_size=(img_size))\n",
    "    temp_img_array = img_to_array(temp_img) /255\n",
    "    list_covid.append(temp_img_array)\n",
    "list_covid = np.array(list_covid)\n",
    "list_covid2 = list_covid.reshape(-1,50176)\n",
    "df_covid=pd.DataFrame(list_covid2)\n",
    "df_covid['label'] = np.full(df_covid.shape[0],2)\n",
    " \n",
    "list_normal2 = list_normal.reshape(num_images, height * width * channels)\n",
    "# Creating a DataFrame and assigning labels\n",
    "df_normal = pd.DataFrame(list_normal2)\n",
    "df_normal['label'] = np.full(num_images, 0)  # Assuming 0 represents normal images\n",
    "\n",
    "print(df_normal.shape) \"\"\""
   ]
  },
  {
   "cell_type": "code",
   "execution_count": 5,
   "id": "e2262880",
   "metadata": {},
   "outputs": [
    {
     "name": "stdout",
     "output_type": "stream",
     "text": [
      "(668, 50177)\n"
     ]
    }
   ],
   "source": [
    "import glob\n",
    "import numpy as np\n",
    "import pandas as pd\n",
    "from keras.preprocessing.image import load_img, img_to_array\n",
    " \n",
    "img_size = (224, 224)\n",
    "dir_name2 = './dataset/NORMAL'\n",
    "img_list2 = glob.glob(dir_name2 + '/*')\n",
    "\n",
    "list_normal = []\n",
    "\n",
    "for img in img_list2:\n",
    "    temp_img = load_img(img, color_mode='grayscale', target_size=(img_size))\n",
    "\n",
    "    #temp_img = load_img(img, grayscale=True, target_size=img_size)\n",
    "    temp_img_array = img_to_array(temp_img) / 255.0  # Normalize pixel values\n",
    "    list_normal.append(temp_img_array)\n",
    "\n",
    "list_normal = np.array(list_normal)\n",
    "num_images, height, width, channels = list_normal.shape\n",
    "list_normal2 = list_normal.reshape(num_images, height * width * channels)\n",
    "\n",
    "# Creating a DataFrame and assigning labels\n",
    "df_normal = pd.DataFrame(list_normal2)\n",
    "df_normal['label'] = np.full(num_images, 0)  # Assuming 0 represents normal images\n",
    "\n",
    "print(df_normal.shape)\n"
   ]
  },
  {
   "cell_type": "code",
   "execution_count": 6,
   "id": "8ff814b9",
   "metadata": {},
   "outputs": [
    {
     "data": {
      "text/plain": [
       "(619, 50177)"
      ]
     },
     "execution_count": 6,
     "metadata": {},
     "output_type": "execute_result"
    }
   ],
   "source": [
    "img_size = (224,224)\n",
    "dir_name3 = './dataset/virus'\n",
    "img_list3 = glob.glob(dir_name3 + '/*')\n",
    "\n",
    "list_others = []\n",
    "for img in img_list3:\n",
    "    temp_img = load_img(img, color_mode='grayscale', target_size=(img_size))\n",
    "\n",
    "   # temp_img = load_img(img,grayscale=True,target_size=(img_size))\n",
    "    temp_img_array = img_to_array(temp_img) /255\n",
    "    list_others.append(temp_img_array)\n",
    "list_others = np.array(list_others)\n",
    "list_others2 = list_others.reshape(-1,50176)\n",
    "df_others=pd.DataFrame(list_others2)\n",
    "df_others['label'] = np.full(df_others.shape[0],1)\n",
    "\n",
    "df_others.shape "
   ]
  },
  {
   "cell_type": "code",
   "execution_count": 7,
   "id": "7ddc1234",
   "metadata": {},
   "outputs": [],
   "source": [
    "Df = pd.concat([df_covid, df_normal , df_others], ignore_index=True)"
   ]
  },
  {
   "cell_type": "code",
   "execution_count": 8,
   "id": "ced67a64",
   "metadata": {},
   "outputs": [],
   "source": [
    "from tensorflow.keras.utils import to_categorical\n",
    "x_train, x_test, y_train, y_test = train_test_split(Df.iloc[:,0:-1], Df.iloc[:,-1], test_size=0.20, random_state=None)\n",
    "\n",
    "X_train = x_train.values.reshape(-1,224,224,1)\n",
    "X_test = x_test.values.reshape(-1,224,224,1)\n",
    "Y_train = to_categorical(y_train)\n",
    "Y_test = to_categorical(y_test)"
   ]
  },
  {
   "cell_type": "code",
   "execution_count": 9,
   "id": "51607aab",
   "metadata": {},
   "outputs": [],
   "source": [
    "import os\n",
    "import numpy as np\n",
    "import pandas as pd\n",
    "import seaborn as sns\n",
    "import matplotlib.pyplot as plt\n",
    "import matplotlib.image as mpimg\n",
    "import seaborn as sns\n",
    "from PIL import Image\n",
    "from tensorflow.keras.preprocessing import image\n",
    "from tensorflow.keras.preprocessing.image import load_img, img_to_array\n",
    "from tensorflow.keras.applications.vgg16 import preprocess_input\n",
    "from tensorflow.keras.utils import to_categorical\n",
    "from tensorflow.keras.callbacks import ModelCheckpoint\n",
    "from tensorflow.keras.callbacks import EarlyStopping\n",
    "from tensorflow.keras.models import Sequential\n",
    "from tensorflow.keras.layers import Dense, Dropout, BatchNormalization, Conv2D, MaxPool2D, Flatten\n",
    "from sklearn.metrics import classification_report, confusion_matrix, accuracy_score\n",
    "from tensorflow.keras.layers import MaxPooling2D, GlobalAveragePooling2D\n",
    "from tensorflow.keras import backend as K\n",
    "from tensorflow.keras.layers import Activation"
   ]
  },
  {
   "cell_type": "code",
   "execution_count": 10,
   "id": "0886091f",
   "metadata": {},
   "outputs": [
    {
     "data": {
      "text/plain": [
       "\"\\nnp.random.seed(42)\\nmodel = Sequential()\\n\\nmodel.add(BatchNormalization(input_shape=(224,224,1)))\\n\\nmodel.add(Conv2D(64, kernel_size=(3,3), padding='same', activation='relu'))\\nmodel.add(MaxPool2D(pool_size=(2,2)))\\nmodel.add(Conv2D(64, kernel_size=(3,3), padding='same', activation='relu'))\\nmodel.add(MaxPool2D(pool_size=(2,2)))\\nmodel.add(Dropout(0.25))\\n\\nmodel.add(Conv2D(32, kernel_size=(3,3), activation='relu'))\\nmodel.add(MaxPool2D(pool_size=(2,2)))\\nmodel.add(Dropout(0.25))\\n\\nmodel.add(Flatten())\\nmodel.add(Dense(128, activation='relu'))\\nmodel.add(Dropout(0.35))\\nmodel.add(Dense(3, activation='softmax'))\\nmodel.compile(optimizer='adam', loss='categorical_crossentropy', metrics=['accuracy'])\""
      ]
     },
     "execution_count": 10,
     "metadata": {},
     "output_type": "execute_result"
    }
   ],
   "source": [
    "import numpy as np\n",
    "from keras.models import Sequential\n",
    "from keras.layers import Conv2D, MaxPool2D, Flatten, Dense, Dropout, BatchNormalization, Input\n",
    "\n",
    "np.random.seed(42)\n",
    "model = Sequential()\n",
    "\n",
    "model.add(Input(shape=(224, 224, 1)))  # Correct: using Input to specify input shape\n",
    "model.add(BatchNormalization())\n",
    "\n",
    "model.add(Conv2D(64, kernel_size=(3, 3), padding='same', activation='relu'))\n",
    "model.add(MaxPool2D(pool_size=(2, 2)))\n",
    "model.add(Conv2D(64, kernel_size=(3, 3), padding='same', activation='relu'))\n",
    "model.add(MaxPool2D(pool_size=(2, 2)))\n",
    "model.add(Dropout(0.25))\n",
    "\n",
    "model.add(Conv2D(32, kernel_size=(3, 3), activation='relu'))\n",
    "model.add(MaxPool2D(pool_size=(2, 2)))\n",
    "model.add(Dropout(0.25))\n",
    "\n",
    "model.add(Flatten())\n",
    "model.add(Dense(128, activation='relu'))\n",
    "model.add(Dropout(0.35))\n",
    "model.add(Dense(3, activation='softmax'))\n",
    "\n",
    "model.compile(optimizer='adam', loss='categorical_crossentropy', metrics=['accuracy'])\n",
    "\n",
    "\n",
    "'''\n",
    "np.random.seed(42)\n",
    "model = Sequential()\n",
    "\n",
    "model.add(BatchNormalization(input_shape=(224,224,1)))\n",
    "\n",
    "model.add(Conv2D(64, kernel_size=(3,3), padding='same', activation='relu'))\n",
    "model.add(MaxPool2D(pool_size=(2,2)))\n",
    "model.add(Conv2D(64, kernel_size=(3,3), padding='same', activation='relu'))\n",
    "model.add(MaxPool2D(pool_size=(2,2)))\n",
    "model.add(Dropout(0.25))\n",
    "\n",
    "model.add(Conv2D(32, kernel_size=(3,3), activation='relu'))\n",
    "model.add(MaxPool2D(pool_size=(2,2)))\n",
    "model.add(Dropout(0.25))\n",
    "\n",
    "model.add(Flatten())\n",
    "model.add(Dense(128, activation='relu'))\n",
    "model.add(Dropout(0.35))\n",
    "model.add(Dense(3, activation='softmax'))\n",
    "model.compile(optimizer='adam', loss='categorical_crossentropy', metrics=['accuracy'])'''"
   ]
  },
  {
   "cell_type": "code",
   "execution_count": 11,
   "id": "93e565da-7779-423b-806c-2e722fbb1b54",
   "metadata": {},
   "outputs": [],
   "source": [
    "#pip show h5py"
   ]
  },
  {
   "cell_type": "code",
   "execution_count": 12,
   "id": "ba2e0b0a",
   "metadata": {
    "scrolled": true
   },
   "outputs": [
    {
     "data": {
      "text/html": [
       "<pre style=\"white-space:pre;overflow-x:auto;line-height:normal;font-family:Menlo,'DejaVu Sans Mono',consolas,'Courier New',monospace\"><span style=\"font-weight: bold\">Model: \"sequential\"</span>\n",
       "</pre>\n"
      ],
      "text/plain": [
       "\u001b[1mModel: \"sequential\"\u001b[0m\n"
      ]
     },
     "metadata": {},
     "output_type": "display_data"
    },
    {
     "data": {
      "text/html": [
       "<pre style=\"white-space:pre;overflow-x:auto;line-height:normal;font-family:Menlo,'DejaVu Sans Mono',consolas,'Courier New',monospace\">┏━━━━━━━━━━━━━━━━━━━━━━━━━━━━━━━━━┳━━━━━━━━━━━━━━━━━━━━━━━━┳━━━━━━━━━━━━━━━┓\n",
       "┃<span style=\"font-weight: bold\"> Layer (type)                    </span>┃<span style=\"font-weight: bold\"> Output Shape           </span>┃<span style=\"font-weight: bold\">       Param # </span>┃\n",
       "┡━━━━━━━━━━━━━━━━━━━━━━━━━━━━━━━━━╇━━━━━━━━━━━━━━━━━━━━━━━━╇━━━━━━━━━━━━━━━┩\n",
       "│ batch_normalization             │ (<span style=\"color: #00d7ff; text-decoration-color: #00d7ff\">None</span>, <span style=\"color: #00af00; text-decoration-color: #00af00\">224</span>, <span style=\"color: #00af00; text-decoration-color: #00af00\">224</span>, <span style=\"color: #00af00; text-decoration-color: #00af00\">1</span>)    │             <span style=\"color: #00af00; text-decoration-color: #00af00\">4</span> │\n",
       "│ (<span style=\"color: #0087ff; text-decoration-color: #0087ff\">BatchNormalization</span>)            │                        │               │\n",
       "├─────────────────────────────────┼────────────────────────┼───────────────┤\n",
       "│ conv2d (<span style=\"color: #0087ff; text-decoration-color: #0087ff\">Conv2D</span>)                 │ (<span style=\"color: #00d7ff; text-decoration-color: #00d7ff\">None</span>, <span style=\"color: #00af00; text-decoration-color: #00af00\">224</span>, <span style=\"color: #00af00; text-decoration-color: #00af00\">224</span>, <span style=\"color: #00af00; text-decoration-color: #00af00\">64</span>)   │           <span style=\"color: #00af00; text-decoration-color: #00af00\">640</span> │\n",
       "├─────────────────────────────────┼────────────────────────┼───────────────┤\n",
       "│ max_pooling2d (<span style=\"color: #0087ff; text-decoration-color: #0087ff\">MaxPooling2D</span>)    │ (<span style=\"color: #00d7ff; text-decoration-color: #00d7ff\">None</span>, <span style=\"color: #00af00; text-decoration-color: #00af00\">112</span>, <span style=\"color: #00af00; text-decoration-color: #00af00\">112</span>, <span style=\"color: #00af00; text-decoration-color: #00af00\">64</span>)   │             <span style=\"color: #00af00; text-decoration-color: #00af00\">0</span> │\n",
       "├─────────────────────────────────┼────────────────────────┼───────────────┤\n",
       "│ conv2d_1 (<span style=\"color: #0087ff; text-decoration-color: #0087ff\">Conv2D</span>)               │ (<span style=\"color: #00d7ff; text-decoration-color: #00d7ff\">None</span>, <span style=\"color: #00af00; text-decoration-color: #00af00\">112</span>, <span style=\"color: #00af00; text-decoration-color: #00af00\">112</span>, <span style=\"color: #00af00; text-decoration-color: #00af00\">64</span>)   │        <span style=\"color: #00af00; text-decoration-color: #00af00\">36,928</span> │\n",
       "├─────────────────────────────────┼────────────────────────┼───────────────┤\n",
       "│ max_pooling2d_1 (<span style=\"color: #0087ff; text-decoration-color: #0087ff\">MaxPooling2D</span>)  │ (<span style=\"color: #00d7ff; text-decoration-color: #00d7ff\">None</span>, <span style=\"color: #00af00; text-decoration-color: #00af00\">56</span>, <span style=\"color: #00af00; text-decoration-color: #00af00\">56</span>, <span style=\"color: #00af00; text-decoration-color: #00af00\">64</span>)     │             <span style=\"color: #00af00; text-decoration-color: #00af00\">0</span> │\n",
       "├─────────────────────────────────┼────────────────────────┼───────────────┤\n",
       "│ dropout (<span style=\"color: #0087ff; text-decoration-color: #0087ff\">Dropout</span>)               │ (<span style=\"color: #00d7ff; text-decoration-color: #00d7ff\">None</span>, <span style=\"color: #00af00; text-decoration-color: #00af00\">56</span>, <span style=\"color: #00af00; text-decoration-color: #00af00\">56</span>, <span style=\"color: #00af00; text-decoration-color: #00af00\">64</span>)     │             <span style=\"color: #00af00; text-decoration-color: #00af00\">0</span> │\n",
       "├─────────────────────────────────┼────────────────────────┼───────────────┤\n",
       "│ conv2d_2 (<span style=\"color: #0087ff; text-decoration-color: #0087ff\">Conv2D</span>)               │ (<span style=\"color: #00d7ff; text-decoration-color: #00d7ff\">None</span>, <span style=\"color: #00af00; text-decoration-color: #00af00\">54</span>, <span style=\"color: #00af00; text-decoration-color: #00af00\">54</span>, <span style=\"color: #00af00; text-decoration-color: #00af00\">32</span>)     │        <span style=\"color: #00af00; text-decoration-color: #00af00\">18,464</span> │\n",
       "├─────────────────────────────────┼────────────────────────┼───────────────┤\n",
       "│ max_pooling2d_2 (<span style=\"color: #0087ff; text-decoration-color: #0087ff\">MaxPooling2D</span>)  │ (<span style=\"color: #00d7ff; text-decoration-color: #00d7ff\">None</span>, <span style=\"color: #00af00; text-decoration-color: #00af00\">27</span>, <span style=\"color: #00af00; text-decoration-color: #00af00\">27</span>, <span style=\"color: #00af00; text-decoration-color: #00af00\">32</span>)     │             <span style=\"color: #00af00; text-decoration-color: #00af00\">0</span> │\n",
       "├─────────────────────────────────┼────────────────────────┼───────────────┤\n",
       "│ dropout_1 (<span style=\"color: #0087ff; text-decoration-color: #0087ff\">Dropout</span>)             │ (<span style=\"color: #00d7ff; text-decoration-color: #00d7ff\">None</span>, <span style=\"color: #00af00; text-decoration-color: #00af00\">27</span>, <span style=\"color: #00af00; text-decoration-color: #00af00\">27</span>, <span style=\"color: #00af00; text-decoration-color: #00af00\">32</span>)     │             <span style=\"color: #00af00; text-decoration-color: #00af00\">0</span> │\n",
       "├─────────────────────────────────┼────────────────────────┼───────────────┤\n",
       "│ flatten (<span style=\"color: #0087ff; text-decoration-color: #0087ff\">Flatten</span>)               │ (<span style=\"color: #00d7ff; text-decoration-color: #00d7ff\">None</span>, <span style=\"color: #00af00; text-decoration-color: #00af00\">23328</span>)          │             <span style=\"color: #00af00; text-decoration-color: #00af00\">0</span> │\n",
       "├─────────────────────────────────┼────────────────────────┼───────────────┤\n",
       "│ dense (<span style=\"color: #0087ff; text-decoration-color: #0087ff\">Dense</span>)                   │ (<span style=\"color: #00d7ff; text-decoration-color: #00d7ff\">None</span>, <span style=\"color: #00af00; text-decoration-color: #00af00\">128</span>)            │     <span style=\"color: #00af00; text-decoration-color: #00af00\">2,986,112</span> │\n",
       "├─────────────────────────────────┼────────────────────────┼───────────────┤\n",
       "│ dropout_2 (<span style=\"color: #0087ff; text-decoration-color: #0087ff\">Dropout</span>)             │ (<span style=\"color: #00d7ff; text-decoration-color: #00d7ff\">None</span>, <span style=\"color: #00af00; text-decoration-color: #00af00\">128</span>)            │             <span style=\"color: #00af00; text-decoration-color: #00af00\">0</span> │\n",
       "├─────────────────────────────────┼────────────────────────┼───────────────┤\n",
       "│ dense_1 (<span style=\"color: #0087ff; text-decoration-color: #0087ff\">Dense</span>)                 │ (<span style=\"color: #00d7ff; text-decoration-color: #00d7ff\">None</span>, <span style=\"color: #00af00; text-decoration-color: #00af00\">3</span>)              │           <span style=\"color: #00af00; text-decoration-color: #00af00\">387</span> │\n",
       "└─────────────────────────────────┴────────────────────────┴───────────────┘\n",
       "</pre>\n"
      ],
      "text/plain": [
       "┏━━━━━━━━━━━━━━━━━━━━━━━━━━━━━━━━━┳━━━━━━━━━━━━━━━━━━━━━━━━┳━━━━━━━━━━━━━━━┓\n",
       "┃\u001b[1m \u001b[0m\u001b[1mLayer (type)                   \u001b[0m\u001b[1m \u001b[0m┃\u001b[1m \u001b[0m\u001b[1mOutput Shape          \u001b[0m\u001b[1m \u001b[0m┃\u001b[1m \u001b[0m\u001b[1m      Param #\u001b[0m\u001b[1m \u001b[0m┃\n",
       "┡━━━━━━━━━━━━━━━━━━━━━━━━━━━━━━━━━╇━━━━━━━━━━━━━━━━━━━━━━━━╇━━━━━━━━━━━━━━━┩\n",
       "│ batch_normalization             │ (\u001b[38;5;45mNone\u001b[0m, \u001b[38;5;34m224\u001b[0m, \u001b[38;5;34m224\u001b[0m, \u001b[38;5;34m1\u001b[0m)    │             \u001b[38;5;34m4\u001b[0m │\n",
       "│ (\u001b[38;5;33mBatchNormalization\u001b[0m)            │                        │               │\n",
       "├─────────────────────────────────┼────────────────────────┼───────────────┤\n",
       "│ conv2d (\u001b[38;5;33mConv2D\u001b[0m)                 │ (\u001b[38;5;45mNone\u001b[0m, \u001b[38;5;34m224\u001b[0m, \u001b[38;5;34m224\u001b[0m, \u001b[38;5;34m64\u001b[0m)   │           \u001b[38;5;34m640\u001b[0m │\n",
       "├─────────────────────────────────┼────────────────────────┼───────────────┤\n",
       "│ max_pooling2d (\u001b[38;5;33mMaxPooling2D\u001b[0m)    │ (\u001b[38;5;45mNone\u001b[0m, \u001b[38;5;34m112\u001b[0m, \u001b[38;5;34m112\u001b[0m, \u001b[38;5;34m64\u001b[0m)   │             \u001b[38;5;34m0\u001b[0m │\n",
       "├─────────────────────────────────┼────────────────────────┼───────────────┤\n",
       "│ conv2d_1 (\u001b[38;5;33mConv2D\u001b[0m)               │ (\u001b[38;5;45mNone\u001b[0m, \u001b[38;5;34m112\u001b[0m, \u001b[38;5;34m112\u001b[0m, \u001b[38;5;34m64\u001b[0m)   │        \u001b[38;5;34m36,928\u001b[0m │\n",
       "├─────────────────────────────────┼────────────────────────┼───────────────┤\n",
       "│ max_pooling2d_1 (\u001b[38;5;33mMaxPooling2D\u001b[0m)  │ (\u001b[38;5;45mNone\u001b[0m, \u001b[38;5;34m56\u001b[0m, \u001b[38;5;34m56\u001b[0m, \u001b[38;5;34m64\u001b[0m)     │             \u001b[38;5;34m0\u001b[0m │\n",
       "├─────────────────────────────────┼────────────────────────┼───────────────┤\n",
       "│ dropout (\u001b[38;5;33mDropout\u001b[0m)               │ (\u001b[38;5;45mNone\u001b[0m, \u001b[38;5;34m56\u001b[0m, \u001b[38;5;34m56\u001b[0m, \u001b[38;5;34m64\u001b[0m)     │             \u001b[38;5;34m0\u001b[0m │\n",
       "├─────────────────────────────────┼────────────────────────┼───────────────┤\n",
       "│ conv2d_2 (\u001b[38;5;33mConv2D\u001b[0m)               │ (\u001b[38;5;45mNone\u001b[0m, \u001b[38;5;34m54\u001b[0m, \u001b[38;5;34m54\u001b[0m, \u001b[38;5;34m32\u001b[0m)     │        \u001b[38;5;34m18,464\u001b[0m │\n",
       "├─────────────────────────────────┼────────────────────────┼───────────────┤\n",
       "│ max_pooling2d_2 (\u001b[38;5;33mMaxPooling2D\u001b[0m)  │ (\u001b[38;5;45mNone\u001b[0m, \u001b[38;5;34m27\u001b[0m, \u001b[38;5;34m27\u001b[0m, \u001b[38;5;34m32\u001b[0m)     │             \u001b[38;5;34m0\u001b[0m │\n",
       "├─────────────────────────────────┼────────────────────────┼───────────────┤\n",
       "│ dropout_1 (\u001b[38;5;33mDropout\u001b[0m)             │ (\u001b[38;5;45mNone\u001b[0m, \u001b[38;5;34m27\u001b[0m, \u001b[38;5;34m27\u001b[0m, \u001b[38;5;34m32\u001b[0m)     │             \u001b[38;5;34m0\u001b[0m │\n",
       "├─────────────────────────────────┼────────────────────────┼───────────────┤\n",
       "│ flatten (\u001b[38;5;33mFlatten\u001b[0m)               │ (\u001b[38;5;45mNone\u001b[0m, \u001b[38;5;34m23328\u001b[0m)          │             \u001b[38;5;34m0\u001b[0m │\n",
       "├─────────────────────────────────┼────────────────────────┼───────────────┤\n",
       "│ dense (\u001b[38;5;33mDense\u001b[0m)                   │ (\u001b[38;5;45mNone\u001b[0m, \u001b[38;5;34m128\u001b[0m)            │     \u001b[38;5;34m2,986,112\u001b[0m │\n",
       "├─────────────────────────────────┼────────────────────────┼───────────────┤\n",
       "│ dropout_2 (\u001b[38;5;33mDropout\u001b[0m)             │ (\u001b[38;5;45mNone\u001b[0m, \u001b[38;5;34m128\u001b[0m)            │             \u001b[38;5;34m0\u001b[0m │\n",
       "├─────────────────────────────────┼────────────────────────┼───────────────┤\n",
       "│ dense_1 (\u001b[38;5;33mDense\u001b[0m)                 │ (\u001b[38;5;45mNone\u001b[0m, \u001b[38;5;34m3\u001b[0m)              │           \u001b[38;5;34m387\u001b[0m │\n",
       "└─────────────────────────────────┴────────────────────────┴───────────────┘\n"
      ]
     },
     "metadata": {},
     "output_type": "display_data"
    },
    {
     "data": {
      "text/html": [
       "<pre style=\"white-space:pre;overflow-x:auto;line-height:normal;font-family:Menlo,'DejaVu Sans Mono',consolas,'Courier New',monospace\"><span style=\"font-weight: bold\"> Total params: </span><span style=\"color: #00af00; text-decoration-color: #00af00\">3,042,535</span> (11.61 MB)\n",
       "</pre>\n"
      ],
      "text/plain": [
       "\u001b[1m Total params: \u001b[0m\u001b[38;5;34m3,042,535\u001b[0m (11.61 MB)\n"
      ]
     },
     "metadata": {},
     "output_type": "display_data"
    },
    {
     "data": {
      "text/html": [
       "<pre style=\"white-space:pre;overflow-x:auto;line-height:normal;font-family:Menlo,'DejaVu Sans Mono',consolas,'Courier New',monospace\"><span style=\"font-weight: bold\"> Trainable params: </span><span style=\"color: #00af00; text-decoration-color: #00af00\">3,042,533</span> (11.61 MB)\n",
       "</pre>\n"
      ],
      "text/plain": [
       "\u001b[1m Trainable params: \u001b[0m\u001b[38;5;34m3,042,533\u001b[0m (11.61 MB)\n"
      ]
     },
     "metadata": {},
     "output_type": "display_data"
    },
    {
     "data": {
      "text/html": [
       "<pre style=\"white-space:pre;overflow-x:auto;line-height:normal;font-family:Menlo,'DejaVu Sans Mono',consolas,'Courier New',monospace\"><span style=\"font-weight: bold\"> Non-trainable params: </span><span style=\"color: #00af00; text-decoration-color: #00af00\">2</span> (8.00 B)\n",
       "</pre>\n"
      ],
      "text/plain": [
       "\u001b[1m Non-trainable params: \u001b[0m\u001b[38;5;34m2\u001b[0m (8.00 B)\n"
      ]
     },
     "metadata": {},
     "output_type": "display_data"
    }
   ],
   "source": [
    "model.summary()"
   ]
  },
  {
   "cell_type": "code",
   "execution_count": 13,
   "id": "542c0379",
   "metadata": {},
   "outputs": [],
   "source": [
    "model_chkpt = ModelCheckpoint('best_mod.keras', monitor='accuracy')\n",
    "early_stopping = EarlyStopping(monitor='loss', restore_best_weights=False, patience=10)"
   ]
  },
  {
   "cell_type": "code",
   "execution_count": 14,
   "id": "9d905b14",
   "metadata": {
    "scrolled": true
   },
   "outputs": [
    {
     "name": "stdout",
     "output_type": "stream",
     "text": [
      "Epoch 1/10\n",
      "\u001b[1m37/37\u001b[0m \u001b[32m━━━━━━━━━━━━━━━━━━━━\u001b[0m\u001b[37m\u001b[0m \u001b[1m32s\u001b[0m 829ms/step - accuracy: 0.4776 - loss: 1.3622 - val_accuracy: 0.5753 - val_loss: 0.8510\n",
      "Epoch 2/10\n",
      "\u001b[1m37/37\u001b[0m \u001b[32m━━━━━━━━━━━━━━━━━━━━\u001b[0m\u001b[37m\u001b[0m \u001b[1m31s\u001b[0m 827ms/step - accuracy: 0.8528 - loss: 0.3579 - val_accuracy: 0.8904 - val_loss: 0.5554\n",
      "Epoch 3/10\n",
      "\u001b[1m37/37\u001b[0m \u001b[32m━━━━━━━━━━━━━━━━━━━━\u001b[0m\u001b[37m\u001b[0m \u001b[1m32s\u001b[0m 856ms/step - accuracy: 0.9164 - loss: 0.2401 - val_accuracy: 0.9281 - val_loss: 0.3702\n",
      "Epoch 4/10\n",
      "\u001b[1m37/37\u001b[0m \u001b[32m━━━━━━━━━━━━━━━━━━━━\u001b[0m\u001b[37m\u001b[0m \u001b[1m31s\u001b[0m 852ms/step - accuracy: 0.9404 - loss: 0.1471 - val_accuracy: 0.9144 - val_loss: 0.4080\n",
      "Epoch 5/10\n",
      "\u001b[1m37/37\u001b[0m \u001b[32m━━━━━━━━━━━━━━━━━━━━\u001b[0m\u001b[37m\u001b[0m \u001b[1m32s\u001b[0m 865ms/step - accuracy: 0.9299 - loss: 0.2100 - val_accuracy: 0.9281 - val_loss: 0.2362\n",
      "Epoch 6/10\n",
      "\u001b[1m37/37\u001b[0m \u001b[32m━━━━━━━━━━━━━━━━━━━━\u001b[0m\u001b[37m\u001b[0m \u001b[1m32s\u001b[0m 862ms/step - accuracy: 0.9569 - loss: 0.1022 - val_accuracy: 0.9349 - val_loss: 0.1834\n",
      "Epoch 7/10\n",
      "\u001b[1m37/37\u001b[0m \u001b[32m━━━━━━━━━━━━━━━━━━━━\u001b[0m\u001b[37m\u001b[0m \u001b[1m32s\u001b[0m 855ms/step - accuracy: 0.9677 - loss: 0.0940 - val_accuracy: 0.9486 - val_loss: 0.1598\n",
      "Epoch 8/10\n",
      "\u001b[1m37/37\u001b[0m \u001b[32m━━━━━━━━━━━━━━━━━━━━\u001b[0m\u001b[37m\u001b[0m \u001b[1m31s\u001b[0m 838ms/step - accuracy: 0.9786 - loss: 0.0761 - val_accuracy: 0.9521 - val_loss: 0.1443\n",
      "Epoch 9/10\n",
      "\u001b[1m37/37\u001b[0m \u001b[32m━━━━━━━━━━━━━━━━━━━━\u001b[0m\u001b[37m\u001b[0m \u001b[1m32s\u001b[0m 861ms/step - accuracy: 0.9808 - loss: 0.0568 - val_accuracy: 0.9521 - val_loss: 0.1698\n",
      "Epoch 10/10\n",
      "\u001b[1m37/37\u001b[0m \u001b[32m━━━━━━━━━━━━━━━━━━━━\u001b[0m\u001b[37m\u001b[0m \u001b[1m30s\u001b[0m 815ms/step - accuracy: 0.9894 - loss: 0.0520 - val_accuracy: 0.9452 - val_loss: 0.1599\n"
     ]
    }
   ],
   "source": [
    "history = model.fit(X_train, Y_train, \n",
    "          validation_split=0.20,\n",
    "          epochs=10, batch_size=32, shuffle=True, \n",
    "          callbacks=[model_chkpt ,early_stopping]\n",
    "         )"
   ]
  },
  {
   "cell_type": "code",
   "execution_count": null,
   "id": "3b8778e6",
   "metadata": {
    "scrolled": true
   },
   "outputs": [],
   "source": [
    "from sklearn.metrics import accuracy_score\n",
    "f, (ax1, ax2) = plt.subplots(1, 2, figsize=(24, 10))\n",
    "t = f.suptitle('Fast-CovNet Performance', fontsize=16,fontweight='bold')\n",
    "f.subplots_adjust(top=0.9, wspace=0.1)\n",
    "\n",
    "max_epoch = len(history.history['accuracy'])+1\n",
    "epoch_list = list(range(1,max_epoch))\n",
    "ax1.plot(epoch_list, history.history['accuracy'], label='Train Accuracy')\n",
    "ax1.plot(epoch_list, history.history['val_accuracy'], label='Validation Accuracy')\n",
    "ax1.set_xticks(np.arange(1, max_epoch, 1))\n",
    "ax1.set_ylabel('Accuracy Value',fontsize=14,fontweight='bold')\n",
    "ax1.set_xlabel('Epoch',fontsize=14,fontweight='bold')\n",
    "ax1.set_title('Accuracy', fontsize=14,fontweight='bold')\n",
    "l1 = ax1.legend(loc=\"best\")\n",
    "\n",
    "ax2.plot(epoch_list, history.history['loss'], label='Train Loss')\n",
    "ax2.plot(epoch_list, history.history['val_loss'], label='Validation Loss')\n",
    "ax2.set_xticks(np.arange(1, max_epoch, 1))\n",
    "ax2.set_ylabel('Loss Value',fontsize=14,fontweight='bold')\n",
    "ax2.set_xlabel('Epoch',fontsize=14,fontweight='bold')\n",
    "ax2.set_title('Loss',fontsize=14,fontweight='bold')\n",
    "l2 = ax2.legend(loc=\"best\")"
   ]
  },
  {
   "cell_type": "code",
   "execution_count": null,
   "id": "17db4c24",
   "metadata": {
    "scrolled": true
   },
   "outputs": [],
   "source": [
    "\n",
    "'''import matplotlib.pyplot as plt\n",
    "from sklearn import metrics\n",
    "import seaborn as sns\n",
    "plt.figure()\n",
    "ax = plt.subplot()\n",
    "ax.set_title('Confusion Matrix')\n",
    "\n",
    "#pred = model.predict_classes(X_test)\n",
    "pred = model.predict(X_test)\n",
    "\n",
    "# Utilisez Y_test pour les étiquettes de classe réelles\n",
    "Y_TEST = np.argmax(Y_test, axis=1)\n",
    "\n",
    "# Calculez la matrice de confusion\n",
    "cm = metrics.confusion_matrix(Y_TEST, np.argmax(pred, axis=1))\n",
    "\n",
    "# Définissez les étiquettes de classe\n",
    "classes = ['normal', 'virus', 'covid']\n",
    "\n",
    "# Affichez la matrice de confusion\n",
    "sns.heatmap(cm, annot=True, xticklabels=classes, yticklabels=classes, cmap='Blues')\n",
    "\n",
    "plt.xlabel('Predicted')\n",
    "plt.ylabel('Actual')\n",
    "plt.show()\n",
    "'''\n"
   ]
  },
  {
   "cell_type": "code",
   "execution_count": 1,
   "id": "a91460eb",
   "metadata": {
    "scrolled": true
   },
   "outputs": [
    {
     "ename": "NameError",
     "evalue": "name 'pred' is not defined",
     "output_type": "error",
     "traceback": [
      "\u001b[1;31m---------------------------------------------------------------------------\u001b[0m",
      "\u001b[1;31mNameError\u001b[0m                                 Traceback (most recent call last)",
      "Cell \u001b[1;32mIn[1], line 7\u001b[0m\n\u001b[0;32m      4\u001b[0m \u001b[38;5;28;01mimport\u001b[39;00m \u001b[38;5;21;01mmatplotlib\u001b[39;00m\u001b[38;5;21;01m.\u001b[39;00m\u001b[38;5;21;01mpyplot\u001b[39;00m \u001b[38;5;28;01mas\u001b[39;00m \u001b[38;5;21;01mplt\u001b[39;00m\n\u001b[0;32m      6\u001b[0m \u001b[38;5;66;03m# Convert predictions to categorical\u001b[39;00m\n\u001b[1;32m----> 7\u001b[0m PRED \u001b[38;5;241m=\u001b[39m to_categorical(pred)\n\u001b[0;32m      8\u001b[0m y \u001b[38;5;241m=\u001b[39m Df[\u001b[38;5;124m'\u001b[39m\u001b[38;5;124mlabel\u001b[39m\u001b[38;5;124m'\u001b[39m]\u001b[38;5;241m.\u001b[39mvalues\n\u001b[0;32m     10\u001b[0m \u001b[38;5;66;03m# Binarize the output\u001b[39;00m\n",
      "\u001b[1;31mNameError\u001b[0m: name 'pred' is not defined"
     ]
    }
   ],
   "source": [
    "from sklearn.preprocessing import label_binarize\n",
    "from sklearn.metrics import roc_curve, auc\n",
    "from keras.utils import to_categorical\n",
    "import matplotlib.pyplot as plt\n",
    "\n",
    "# Convert predictions to categorical\n",
    "PRED = to_categorical(pred)\n",
    "y = Df['label'].values\n",
    "\n",
    "# Binarize the output\n",
    "y = label_binarize(y, classes=[0, 1, 2])\n",
    "n_classes = y.shape[1]\n",
    "\n",
    "fpr = dict()\n",
    "tpr = dict()\n",
    "roc_auc = dict()\n",
    "\n",
    "# Compute ROC curve and ROC area for each class\n",
    "for i in range(n_classes):\n",
    "    fpr[i], tpr[i], _ = roc_curve(Y_test[:, i], PRED[:, i])\n",
    "    roc_auc[i] = auc(fpr[i], tpr[i])\n",
    "\n",
    "# Plotting the ROC curves\n",
    "colors = ['blue', 'red', 'green']\n",
    "cls = {0: 'normal', 1: 'other pneumonia', 2: 'covid'}\n",
    "\n",
    "plt.figure()\n",
    "for i, color, c in zip(range(n_classes), colors, cls.values()):\n",
    "    plt.plot(fpr[i], tpr[i], color=color, lw=0.5,\n",
    "             label='ROC curve of {0} (AUC = {1:0.2f})'.format(c, roc_auc[i]))\n",
    "\n",
    "# Corrected the redundant linestyle definition\n",
    "plt.plot([0, 1], [0, 1], 'k--')  # Removed 'linestyle' argument\n",
    "\n",
    "plt.xlim([-0.05, 1.0])\n",
    "plt.ylim([0.0, 1.05])\n",
    "plt.xlabel('False Positive Rate')\n",
    "plt.ylabel('True Positive Rate')\n",
    "plt.title('ROC for multi-class data')\n",
    "plt.legend(loc=\"lower right\")\n",
    "plt.show()\n",
    "\n",
    "'''\n",
    "from sklearn.preprocessing import label_binarize\n",
    "from sklearn.metrics import roc_curve, auc\n",
    " \n",
    "\n",
    "PRED = to_categorical(pred)\n",
    "y = Df['label'].values\n",
    "# Binarize the output\n",
    "y = label_binarize(y, classes=[0,1,2])\n",
    "n_classes = y.shape[1]\n",
    "\n",
    "fpr = dict()\n",
    "tpr = dict()\n",
    "roc_auc = dict()\n",
    "for i in range(n_classes):\n",
    "       fpr[i], tpr[i], _ = roc_curve(Y_test[:,i], PRED[:,i])\n",
    "       roc_auc[i] = auc(fpr[i], tpr[i])\n",
    "       colors = ['blue', 'red', 'green']\n",
    "cls = {0:'normal', 1:'other pneumonia', 2:'covid'}\n",
    "for i, color ,c in zip(range(n_classes), colors, cls.values()):\n",
    "    plt.plot(fpr[i], tpr[i], color=color, lw=0.5,\n",
    "             label='ROC curve of '+c+ '(AUC = {1:0.2f})'\n",
    "             ''.format(i, roc_auc[i]))\n",
    "plt.plot([0, 1], [0, 1], 'k--',linestyle='--')\n",
    "plt.xlim([-0.05, 1.0])\n",
    "plt.ylim([0.0, 1.05])\n",
    "plt.xlabel('False Positive Rate')\n",
    "plt.ylabel('True Positive Rate')\n",
    "plt.title('ROC for multi-class data')\n",
    "plt.legend(loc=\"lower right\")\n",
    "plt.show()\n",
    "'''"
   ]
  },
  {
   "cell_type": "code",
   "execution_count": null,
   "id": "914f7eea",
   "metadata": {
    "scrolled": true
   },
   "outputs": [],
   "source": [
    "from sklearn.metrics import roc_curve, auc\n",
    "from sklearn.preprocessing import label_binarize\n",
    "from keras.utils import to_categorical\n",
    "import matplotlib.pyplot as plt\n",
    "import numpy as np\n",
    "\n",
    "# Simuler les prédictions et les étiquettes pour l'exemple\n",
    "# Remplacez cette partie par vos données réelles\n",
    "# pred = ... (vos prédictions)\n",
    "# Y_test = ... (vos étiquettes de test)\n",
    "pred = np.random.randint(0, 3, size=(100,))  # Exemple de prédictions\n",
    "Y_test = np.random.randint(0, 3, size=(100,))  # Exemple d'étiquettes de test\n",
    "\n",
    "# Convertir les prédictions en une représentation catégorielle\n",
    "PRED = to_categorical(pred, num_classes=3)\n",
    "\n",
    "# Binariser les étiquettes de test\n",
    "y = label_binarize(Y_test, classes=[0, 1, 2])\n",
    "n_classes = y.shape[1]\n",
    "\n",
    "fpr = dict()\n",
    "tpr = dict()\n",
    "roc_auc = dict()\n",
    "\n",
    "# Calculer les valeurs de FPR, TPR et AUC pour chaque classe\n",
    "for i in range(n_classes):\n",
    "    fpr[i], tpr[i], _ = roc_curve(y[:, i], PRED[:, i])\n",
    "    roc_auc[i] = auc(fpr[i], tpr[i])\n",
    "\n",
    "# Tracer les courbes ROC pour chaque classe\n",
    "colors = ['blue', 'red', 'green']\n",
    "cls = {0: 'normal', 1: 'other pneumonia', 2: 'covid'}\n",
    "\n",
    "plt.figure()\n",
    "for i, color, c in zip(range(n_classes), colors, cls.values()):\n",
    "    plt.plot(fpr[i], tpr[i], color=color, lw=2,\n",
    "             label='ROC curve of {0} (AUC = {1:0.2f})'.format(c, roc_auc[i]))\n",
    "\n",
    "# Tracer la ligne de référence ROC\n",
    "plt.plot([0, 1], [0, 1], color='navy', lw=2, linestyle='--')\n",
    "\n",
    "plt.xlim([0.0, 1.0])\n",
    "plt.ylim([0.0, 1.05])\n",
    "plt.xlabel('False Positive Rate')\n",
    "plt.ylabel('True Positive Rate')\n",
    "plt.title('Receiver Operating Characteristic (ROC) Curve')\n",
    "plt.legend(loc=\"lower right\")\n",
    "plt.show()\n",
    "\n",
    "\n",
    "\n",
    "'''\n",
    "from sklearn.metrics import roc_curve, auc\n",
    "\n",
    "# Calculer les valeurs de FPR, TPR et AUC pour chaque classe\n",
    "fpr, tpr, _ = roc_curve(Y_test, PRED)\n",
    "roc_auc = auc(fpr, tpr)\n",
    "\n",
    "# Tracer la courbe ROC\n",
    "plt.figure()\n",
    "plt.plot(fpr, tpr, color='darkorange', lw=2,\n",
    "         label='ROC curve (area = %0.2f)' % roc_auc)\n",
    "plt.plot([0, 1], [0, 1], color='navy', lw=2, linestyle='--')\n",
    "plt.xlim([0.0, 1.0])\n",
    "plt.ylim([0.0, 1.05])\n",
    "plt.xlabel('False Positive Rate')\n",
    "plt.ylabel('True Positive Rate')\n",
    "plt.title('Receiver Operating Characteristic (ROC) Curve')\n",
    "plt.legend(loc=\"lower right\")\n",
    "plt.show()\n",
    "'''"
   ]
  },
  {
   "cell_type": "code",
   "execution_count": null,
   "id": "ecba129d",
   "metadata": {},
   "outputs": [],
   "source": []
  },
  {
   "cell_type": "code",
   "execution_count": null,
   "id": "f3a441cd",
   "metadata": {},
   "outputs": [],
   "source": [
    "\n"
   ]
  },
  {
   "cell_type": "code",
   "execution_count": null,
   "id": "e8e12980",
   "metadata": {},
   "outputs": [],
   "source": []
  },
  {
   "cell_type": "code",
   "execution_count": null,
   "id": "5ea9490c",
   "metadata": {},
   "outputs": [],
   "source": []
  },
  {
   "cell_type": "code",
   "execution_count": null,
   "id": "4a884b2a",
   "metadata": {},
   "outputs": [],
   "source": []
  }
 ],
 "metadata": {
  "celltoolbar": "Diaporama",
  "kernelspec": {
   "display_name": "Python 3 (ipykernel)",
   "language": "python",
   "name": "python3"
  },
  "language_info": {
   "codemirror_mode": {
    "name": "ipython",
    "version": 3
   },
   "file_extension": ".py",
   "mimetype": "text/x-python",
   "name": "python",
   "nbconvert_exporter": "python",
   "pygments_lexer": "ipython3",
   "version": "3.12.4"
  }
 },
 "nbformat": 4,
 "nbformat_minor": 5
}
